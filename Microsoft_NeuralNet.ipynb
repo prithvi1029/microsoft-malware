{
  "nbformat": 4,
  "nbformat_minor": 0,
  "metadata": {
    "colab": {
      "name": "Microsoft_NeuralNet.ipynb",
      "version": "0.3.2",
      "provenance": [],
      "collapsed_sections": []
    },
    "kernelspec": {
      "name": "python3",
      "display_name": "Python 3"
    },
    "accelerator": "GPU"
  },
  "cells": [
    {
      "cell_type": "code",
      "metadata": {
        "id": "GttiidgVAmN0",
        "colab_type": "code",
        "outputId": "8375d9d0-f757-46ca-bca2-d7ee461efcaa",
        "colab": {
          "base_uri": "https://localhost:8080/",
          "height": 55
        }
      },
      "source": [
        "from google.colab import drive\n",
        "drive.mount('/content/drive')"
      ],
      "execution_count": 0,
      "outputs": [
        {
          "output_type": "stream",
          "text": [
            "Drive already mounted at /content/drive; to attempt to forcibly remount, call drive.mount(\"/content/drive\", force_remount=True).\n"
          ],
          "name": "stdout"
        }
      ]
    },
    {
      "cell_type": "code",
      "metadata": {
        "id": "yTf-XvTkAsmW",
        "colab_type": "code",
        "outputId": "31bff9c5-eda5-4abc-f50a-7c6c0e6e07dc",
        "colab": {
          "base_uri": "https://localhost:8080/",
          "height": 35
        }
      },
      "source": [
        "import pandas as pd\n",
        "import numpy as np\n",
        "from sklearn.preprocessing import LabelEncoder, OneHotEncoder\n",
        "import math\n",
        "import gc\n",
        "gc.enable()\n",
        "gc.collect()"
      ],
      "execution_count": 0,
      "outputs": [
        {
          "output_type": "execute_result",
          "data": {
            "text/plain": [
              "0"
            ]
          },
          "metadata": {
            "tags": []
          },
          "execution_count": 3
        }
      ]
    },
    {
      "cell_type": "code",
      "metadata": {
        "id": "uhroqiyNBDKI",
        "colab_type": "code",
        "colab": {}
      },
      "source": [
        "# LOAD AND FREQUENCY-ENCODE\n",
        "FE = ['AppVersion','AvSigVersion','Census_OSVersion']\n",
        "# LOAD AND ONE-HOT-ENCODE\n",
        "OHE = [ 'IsProtected', 'Census_IsAlwaysOnAlwaysConnectedCapable',\n",
        "       'Census_FlightRing', 'Census_HasOpticalDiskDrive',\n",
        "       'Census_OSArchitecture', 'Census_GenuineStateName',\n",
        "       'Census_IsTouchEnabled', 'Census_InternalBatteryType', 'SmartScreen',\n",
        "       'Wdft_IsGamer', 'AVProductsInstalled', 'Census_PowerPlatformRoleName',\n",
        "       'OrganizationIdentifier', 'AVProductStatesIdentifier',\n",
        "       'Census_PrimaryDiskTypeName', 'Census_MDC2FormFactor',\n",
        "       'Census_ProcessorCoreCount', 'Census_ChassisTypeName',\n",
        "       'Census_InternalBatteryNumberOfCharges',\n",
        "       'Census_ActivationChannel', 'Census_IsSecureBootEnabled',\n",
        "       'Census_InternalPrimaryDisplayResolutionHorizontal',\n",
        "       'Census_TotalPhysicalRAM', 'Census_OSBranch',\n",
        "       'Census_OSWUAutoUpdateOptionsName', 'OsPlatformSubRelease',\n",
        "       'OsBuildLab', 'Census_OSEdition', 'Census_OSUILocaleIdentifier',\n",
        "       'Census_InternalPrimaryDiagonalDisplaySizeInInches',\n",
        "       'Census_PrimaryDiskTotalCapacity',\n",
        "       'Census_FirmwareManufacturerIdentifier', 'Census_OSInstallTypeName',\n",
        "       'LocaleEnglishNameIdentifier', 'Wdft_RegionIdentifier',\n",
        "       'GeoNameIdentifier', 'Census_OSBuildRevision',\n",
        "       'Census_OEMNameIdentifier', 'CountryIdentifier',\n",
        "       'Census_OEMModelIdentifier', 'Census_ProcessorModelIdentifier'\n",
        "       , 'CityIdentifier', 'Census_FirmwareVersionIdentifier',\n",
        "       'Census_SystemVolumeTotalCapacity']"
      ],
      "execution_count": 0,
      "outputs": []
    },
    {
      "cell_type": "code",
      "metadata": {
        "id": "_6Kq80kxBFjG",
        "colab_type": "code",
        "colab": {}
      },
      "source": [
        "# LOAD ALL AS CATEGORIES\n",
        "dtypes = {}\n",
        "for x in FE+OHE: dtypes[x] = 'category'\n",
        "dtypes['MachineIdentifier'] = 'str'\n",
        "dtypes['HasDetections'] = 'int8'"
      ],
      "execution_count": 0,
      "outputs": []
    },
    {
      "cell_type": "code",
      "metadata": {
        "id": "bNAdg2cVdxhk",
        "colab_type": "code",
        "outputId": "c92471dc-1066-45ab-9bc2-398c1c0cd39c",
        "colab": {
          "base_uri": "https://localhost:8080/",
          "height": 35
        }
      },
      "source": [
        "gc.collect()"
      ],
      "execution_count": 0,
      "outputs": [
        {
          "output_type": "execute_result",
          "data": {
            "text/plain": [
              "72115"
            ]
          },
          "metadata": {
            "tags": []
          },
          "execution_count": 7
        }
      ]
    },
    {
      "cell_type": "code",
      "metadata": {
        "id": "hw5jnlX0BIAp",
        "colab_type": "code",
        "outputId": "9fbeb5d5-988a-4af9-c76d-1ce2a836fe75",
        "colab": {
          "base_uri": "https://localhost:8080/",
          "height": 53
        }
      },
      "source": [
        "# LOAD CSV FILE\n",
        "df_train = pd.read_csv('/content/drive/My Drive/Microsoft Malware/train.csv', usecols=dtypes.keys(), dtype=dtypes)\n",
        "print ('Loaded',len(df_train),'rows of TRAIN.CSV!')\n",
        "gc.collect()"
      ],
      "execution_count": 0,
      "outputs": [
        {
          "output_type": "stream",
          "text": [
            "Loaded 8921483 rows of TRAIN.CSV!\n"
          ],
          "name": "stdout"
        },
        {
          "output_type": "execute_result",
          "data": {
            "text/plain": [
              "358365"
            ]
          },
          "metadata": {
            "tags": []
          },
          "execution_count": 8
        }
      ]
    },
    {
      "cell_type": "code",
      "metadata": {
        "id": "qdlR8BZVF_DV",
        "colab_type": "code",
        "outputId": "8356496a-a8fd-4dff-ecb6-ad266641fc79",
        "colab": {
          "base_uri": "https://localhost:8080/",
          "height": 35
        }
      },
      "source": [
        "# DOWNSAMPLE\n",
        "sm = 2000000\n",
        "df_train = df_train.sample(sm)\n",
        "print ('Only using',sm,'rows to train and validate')\n",
        "x=gc.collect()"
      ],
      "execution_count": 0,
      "outputs": [
        {
          "output_type": "stream",
          "text": [
            "Only using 2000000 rows to train and validate\n"
          ],
          "name": "stdout"
        }
      ]
    },
    {
      "cell_type": "code",
      "metadata": {
        "id": "NmS_Dn0xBMyU",
        "colab_type": "code",
        "colab": {}
      },
      "source": [
        "import math\n",
        "\n",
        "# CHECK FOR NAN\n",
        "def nan_check(x):\n",
        "    if isinstance(x,float):\n",
        "        if math.isnan(x):\n",
        "            return True\n",
        "    return False\n",
        "\n",
        "# FREQUENCY ENCODING\n",
        "def encode_FE(df,col,verbose=1):\n",
        "    d = df[col].value_counts(dropna=False)\n",
        "    n = col+\"_FE\"\n",
        "    df[n] = df[col].map(d)/d.max()\n",
        "    if verbose==1:\n",
        "        print('FE encoded',col)\n",
        "    return [n]\n",
        "\n",
        "# ONE-HOT-ENCODE ALL CATEGORY VALUES THAT COMPRISE MORE THAN\n",
        "# \"FILTER\" PERCENT OF TOTAL DATA AND HAS SIGNIFICANCE GREATER THAN \"ZVALUE\"\n",
        "def encode_OHE(df, col, filter, zvalue, tar='HasDetections', m=0.5, verbose=1):\n",
        "    cv = df[col].value_counts(dropna=False)\n",
        "    cvd = cv.to_dict()\n",
        "    vals = len(cv)\n",
        "    th = filter * len(df)\n",
        "    sd = zvalue * 0.5/ math.sqrt(th)\n",
        "    #print(sd)\n",
        "    n = []; ct = 0; d = {}\n",
        "    for x in cv.index:\n",
        "        try:\n",
        "            if cv[x]<th: break\n",
        "            sd = zvalue * 0.5/ math.sqrt(cv[x])\n",
        "        except:\n",
        "            if cvd[x]<th: break\n",
        "            sd = zvalue * 0.5/ math.sqrt(cvd[x])\n",
        "        if nan_check(x): r = df[df[col].isna()][tar].mean()\n",
        "        else: r = df[df[col]==x][tar].mean()\n",
        "        if abs(r-m)>sd:\n",
        "            nm = col+'_BE_'+str(x)\n",
        "            if nan_check(x): df[nm] = (df[col].isna()).astype('int8')\n",
        "            else: df[nm] = (df[col]==x).astype('int8')\n",
        "            n.append(nm)\n",
        "            d[x] = 1\n",
        "        ct += 1\n",
        "        if (ct+1)>=vals: break\n",
        "    if verbose==1:\n",
        "        print('OHE encoded',col,'- Created',len(d),'booleans')\n",
        "    return [n,d]\n",
        "\n",
        "# ONE-HOT-ENCODING from dictionary\n",
        "def encode_OHE_test(df,col,dt):\n",
        "    n = []\n",
        "    for x in dt: \n",
        "        n += encode_BE(df,col,x)\n",
        "    return n\n",
        "\n",
        "# BOOLEAN ENCODING\n",
        "def encode_BE(df,col,val):\n",
        "    n = col+\"_BE_\"+str(val)\n",
        "    if nan_check(val):\n",
        "        df[n] = df[col].isna()\n",
        "    else:\n",
        "        df[n] = df[col]==val\n",
        "    df[n] = df[n].astype('int8')\n",
        "    return [n]"
      ],
      "execution_count": 0,
      "outputs": []
    },
    {
      "cell_type": "code",
      "metadata": {
        "id": "0UYrkfdmBxKF",
        "colab_type": "code",
        "outputId": "4d9b080b-ee94-44ac-f07e-49ef5f2ffe6e",
        "colab": {
          "base_uri": "https://localhost:8080/",
          "height": 907
        }
      },
      "source": [
        "cols = []; dd = []\n",
        "\n",
        "# ENCODE NEW\n",
        "for x in FE:\n",
        "    cols += encode_FE(df_train,x)\n",
        "for x in OHE:\n",
        "    tmp = encode_OHE(df_train,x,0.005,5)\n",
        "    cols += tmp[0]; dd.append(tmp[1])\n",
        "print('Encoded',len(cols),'new variables')\n",
        "x =gc.collect()\n",
        "# REMOVE OLD\n",
        "for x in FE+OHE:\n",
        "    del df_train[x]\n",
        "print('Removed original',len(FE+OHE),'variables')\n",
        "x = gc.collect()"
      ],
      "execution_count": 0,
      "outputs": [
        {
          "output_type": "stream",
          "text": [
            "FE encoded AppVersion\n",
            "FE encoded AvSigVersion\n",
            "FE encoded Census_OSVersion\n",
            "OHE encoded IsProtected - Created 2 booleans\n",
            "OHE encoded Census_IsAlwaysOnAlwaysConnectedCapable - Created 2 booleans\n",
            "OHE encoded Census_FlightRing - Created 1 booleans\n",
            "OHE encoded Census_HasOpticalDiskDrive - Created 1 booleans\n",
            "OHE encoded Census_OSArchitecture - Created 2 booleans\n",
            "OHE encoded Census_GenuineStateName - Created 1 booleans\n",
            "OHE encoded Census_IsTouchEnabled - Created 1 booleans\n",
            "OHE encoded Census_InternalBatteryType - Created 4 booleans\n",
            "OHE encoded SmartScreen - Created 4 booleans\n",
            "OHE encoded Wdft_IsGamer - Created 2 booleans\n",
            "OHE encoded AVProductsInstalled - Created 3 booleans\n",
            "OHE encoded Census_PowerPlatformRoleName - Created 4 booleans\n",
            "OHE encoded OrganizationIdentifier - Created 3 booleans\n",
            "OHE encoded AVProductStatesIdentifier - Created 9 booleans\n",
            "OHE encoded Census_PrimaryDiskTypeName - Created 3 booleans\n",
            "OHE encoded Census_MDC2FormFactor - Created 6 booleans\n",
            "OHE encoded Census_ProcessorCoreCount - Created 6 booleans\n",
            "OHE encoded Census_ChassisTypeName - Created 10 booleans\n",
            "OHE encoded Census_InternalBatteryNumberOfCharges - Created 4 booleans\n",
            "OHE encoded Census_ActivationChannel - Created 3 booleans\n",
            "OHE encoded Census_IsSecureBootEnabled - Created 0 booleans\n",
            "OHE encoded Census_InternalPrimaryDisplayResolutionHorizontal - Created 5 booleans\n",
            "OHE encoded Census_TotalPhysicalRAM - Created 9 booleans\n",
            "OHE encoded Census_OSBranch - Created 7 booleans\n",
            "OHE encoded Census_OSWUAutoUpdateOptionsName - Created 3 booleans\n",
            "OHE encoded OsPlatformSubRelease - Created 6 booleans\n",
            "OHE encoded OsBuildLab - Created 10 booleans\n",
            "OHE encoded Census_OSEdition - Created 4 booleans\n",
            "OHE encoded Census_OSUILocaleIdentifier - Created 18 booleans\n",
            "OHE encoded Census_InternalPrimaryDiagonalDisplaySizeInInches - Created 20 booleans\n",
            "OHE encoded Census_PrimaryDiskTotalCapacity - Created 14 booleans\n",
            "OHE encoded Census_FirmwareManufacturerIdentifier - Created 13 booleans\n",
            "OHE encoded Census_OSInstallTypeName - Created 7 booleans\n",
            "OHE encoded LocaleEnglishNameIdentifier - Created 26 booleans\n",
            "OHE encoded Wdft_RegionIdentifier - Created 12 booleans\n",
            "OHE encoded GeoNameIdentifier - Created 30 booleans\n",
            "OHE encoded Census_OSBuildRevision - Created 22 booleans\n",
            "OHE encoded Census_OEMNameIdentifier - Created 20 booleans\n",
            "OHE encoded CountryIdentifier - Created 39 booleans\n",
            "OHE encoded Census_OEMModelIdentifier - Created 8 booleans\n",
            "OHE encoded Census_ProcessorModelIdentifier - Created 26 booleans\n",
            "OHE encoded CityIdentifier - Created 11 booleans\n",
            "OHE encoded Census_FirmwareVersionIdentifier - Created 1 booleans\n",
            "OHE encoded Census_SystemVolumeTotalCapacity - Created 1 booleans\n",
            "Encoded 386 new variables\n",
            "Removed original 47 variables\n"
          ],
          "name": "stdout"
        }
      ]
    },
    {
      "cell_type": "code",
      "metadata": {
        "id": "zw1IbwjsB8bg",
        "colab_type": "code",
        "outputId": "a7fdfdc3-c84b-4c58-9bca-94ed360be575",
        "colab": {
          "base_uri": "https://localhost:8080/",
          "height": 35
        }
      },
      "source": [
        "gc.collect()"
      ],
      "execution_count": 0,
      "outputs": [
        {
          "output_type": "execute_result",
          "data": {
            "text/plain": [
              "0"
            ]
          },
          "metadata": {
            "tags": []
          },
          "execution_count": 12
        }
      ]
    },
    {
      "cell_type": "code",
      "metadata": {
        "id": "cHpQp994N6Pf",
        "colab_type": "code",
        "outputId": "57a85177-97f9-470f-96d9-634f0b033cc0",
        "colab": {
          "base_uri": "https://localhost:8080/",
          "height": 546
        }
      },
      "source": [
        "from sklearn.model_selection import train_test_split\n",
        "from keras.models import Sequential\n",
        "from keras.layers import Dense, Dropout, BatchNormalization, Activation\n",
        "from keras.callbacks import LearningRateScheduler\n",
        "from keras.optimizers import Adam\n",
        "\n",
        "#SPLIT TRAIN AND VALIDATION SET\n",
        "X_train, X_val, Y_train, Y_val = train_test_split(\n",
        "    df_train[cols], df_train['HasDetections'], test_size = 0.3)\n",
        "\n",
        "# BUILD MODEL\n",
        "model = Sequential()\n",
        "model.add(Dense(100,input_dim=len(cols)))\n",
        "model.add(Dropout(0.4))\n",
        "model.add(BatchNormalization())\n",
        "model.add(Activation('relu'))\n",
        "model.add(Dense(100))\n",
        "model.add(Dropout(0.4))\n",
        "model.add(BatchNormalization())\n",
        "model.add(Activation('relu'))\n",
        "model.add(Dense(1, activation='sigmoid'))\n",
        "model.compile(optimizer=Adam(lr=0.01), loss=\"binary_crossentropy\", metrics=[\"accuracy\"])\n",
        "annealer = LearningRateScheduler(lambda x: 1e-2 * 0.95 ** x)\n",
        "\n",
        "# TRAIN MODEL\n",
        "#earlyStopping = EarlyStopping(monitor='val_loss', patience=10, verbose=0, mode='min')\n",
        "#mcp_save = ModelCheckpoint('.mdl_wts.hdf5', save_best_only=True, monitor='val_loss', mode='min')\n",
        "#reduce_lr_loss = ReduceLROnPlateau(monitor='val_loss', factor=0.1, patience=7, verbose=1, epsilon=1e-4, mode='min')\n",
        "model.fit(X_train,Y_train, batch_size=32, epochs = 8, callbacks=[annealer], validation_data = (X_val,Y_val), verbose=1)"
      ],
      "execution_count": 0,
      "outputs": [
        {
          "output_type": "stream",
          "text": [
            "Using TensorFlow backend.\n"
          ],
          "name": "stderr"
        },
        {
          "output_type": "stream",
          "text": [
            "WARNING:tensorflow:From /usr/local/lib/python3.6/dist-packages/tensorflow/python/framework/op_def_library.py:263: colocate_with (from tensorflow.python.framework.ops) is deprecated and will be removed in a future version.\n",
            "Instructions for updating:\n",
            "Colocations handled automatically by placer.\n",
            "WARNING:tensorflow:From /usr/local/lib/python3.6/dist-packages/keras/backend/tensorflow_backend.py:3445: calling dropout (from tensorflow.python.ops.nn_ops) with keep_prob is deprecated and will be removed in a future version.\n",
            "Instructions for updating:\n",
            "Please use `rate` instead of `keep_prob`. Rate should be set to `rate = 1 - keep_prob`.\n",
            "WARNING:tensorflow:From /usr/local/lib/python3.6/dist-packages/tensorflow/python/ops/math_ops.py:3066: to_int32 (from tensorflow.python.ops.math_ops) is deprecated and will be removed in a future version.\n",
            "Instructions for updating:\n",
            "Use tf.cast instead.\n",
            "Train on 1400000 samples, validate on 600000 samples\n",
            "Epoch 1/8\n",
            "1400000/1400000 [==============================] - 419s 299us/step - loss: 0.6424 - acc: 0.6232 - val_loss: 0.6335 - val_acc: 0.6359\n",
            "Epoch 2/8\n",
            "1400000/1400000 [==============================] - 417s 298us/step - loss: 0.6369 - acc: 0.6306 - val_loss: 0.6334 - val_acc: 0.6396\n",
            "Epoch 3/8\n",
            "1400000/1400000 [==============================] - 419s 299us/step - loss: 0.6353 - acc: 0.6325 - val_loss: 0.6311 - val_acc: 0.6411\n",
            "Epoch 4/8\n",
            "1400000/1400000 [==============================] - 420s 300us/step - loss: 0.6340 - acc: 0.6340 - val_loss: 0.6288 - val_acc: 0.6423\n",
            "Epoch 5/8\n",
            "1400000/1400000 [==============================] - 420s 300us/step - loss: 0.6330 - acc: 0.6354 - val_loss: 0.6285 - val_acc: 0.6417\n",
            "Epoch 6/8\n",
            "1400000/1400000 [==============================] - 418s 299us/step - loss: 0.6322 - acc: 0.6365 - val_loss: 0.6299 - val_acc: 0.6437\n",
            "Epoch 7/8\n",
            "1400000/1400000 [==============================] - 418s 298us/step - loss: 0.6315 - acc: 0.6370 - val_loss: 0.6332 - val_acc: 0.6435\n",
            "Epoch 8/8\n",
            "1400000/1400000 [==============================] - 416s 297us/step - loss: 0.6311 - acc: 0.6376 - val_loss: 0.6297 - val_acc: 0.6440\n"
          ],
          "name": "stdout"
        },
        {
          "output_type": "execute_result",
          "data": {
            "text/plain": [
              "<keras.callbacks.History at 0x7fb0517a3908>"
            ]
          },
          "metadata": {
            "tags": []
          },
          "execution_count": 13
        }
      ]
    },
    {
      "cell_type": "code",
      "metadata": {
        "id": "d_yZXK_sMLAX",
        "colab_type": "code",
        "outputId": "05c57845-5fca-46b0-df50-e7121dc712c9",
        "colab": {
          "base_uri": "https://localhost:8080/",
          "height": 35
        }
      },
      "source": [
        "del df_train\n",
        "del X_train, X_val, Y_train, Y_val\n",
        "gc.collect()"
      ],
      "execution_count": 0,
      "outputs": [
        {
          "output_type": "execute_result",
          "data": {
            "text/plain": [
              "49"
            ]
          },
          "metadata": {
            "tags": []
          },
          "execution_count": 14
        }
      ]
    },
    {
      "cell_type": "code",
      "metadata": {
        "id": "cq9N19E-QkHE",
        "colab_type": "code",
        "outputId": "2201c10a-50ad-4bbf-b461-2475a5bf435c",
        "colab": {
          "base_uri": "https://localhost:8080/",
          "height": 598
        }
      },
      "source": [
        "pred = np.zeros((7853253,1))\n",
        "id = 1\n",
        "chunksize = 500000\n",
        "for df_test in pd.read_csv('/content/drive/My Drive/Microsoft Malware/test.csv', \n",
        "            chunksize = chunksize, usecols=list(dtypes.keys())[0:-1], dtype=dtypes):\n",
        "    print ('Loaded',len(df_test),'rows of TEST.CSV!')\n",
        "    # ENCODE TEST\n",
        "    cols = []\n",
        "    for x in FE:\n",
        "        cols += encode_FE(df_test,x,verbose=0)\n",
        "    for x in range(len(OHE)):\n",
        "        cols += encode_OHE_test(df_test,OHE[x],dd[x])\n",
        "    # PREDICT TEST\n",
        "    end = (id)*chunksize\n",
        "    if end>7853253: end = 7853253\n",
        "    pred[(id-1)*chunksize:end] = model.predict(df_test[cols])\n",
        "    print('  encoded and predicted part',id)\n",
        "    id += 1"
      ],
      "execution_count": 0,
      "outputs": [
        {
          "output_type": "stream",
          "text": [
            "Loaded 500000 rows of TEST.CSV!\n",
            "  encoded and predicted part 1\n",
            "Loaded 500000 rows of TEST.CSV!\n",
            "  encoded and predicted part 2\n",
            "Loaded 500000 rows of TEST.CSV!\n",
            "  encoded and predicted part 3\n",
            "Loaded 500000 rows of TEST.CSV!\n",
            "  encoded and predicted part 4\n",
            "Loaded 500000 rows of TEST.CSV!\n",
            "  encoded and predicted part 5\n",
            "Loaded 500000 rows of TEST.CSV!\n",
            "  encoded and predicted part 6\n",
            "Loaded 500000 rows of TEST.CSV!\n",
            "  encoded and predicted part 7\n",
            "Loaded 500000 rows of TEST.CSV!\n",
            "  encoded and predicted part 8\n",
            "Loaded 500000 rows of TEST.CSV!\n",
            "  encoded and predicted part 9\n",
            "Loaded 500000 rows of TEST.CSV!\n",
            "  encoded and predicted part 10\n",
            "Loaded 500000 rows of TEST.CSV!\n",
            "  encoded and predicted part 11\n",
            "Loaded 500000 rows of TEST.CSV!\n",
            "  encoded and predicted part 12\n",
            "Loaded 500000 rows of TEST.CSV!\n",
            "  encoded and predicted part 13\n",
            "Loaded 500000 rows of TEST.CSV!\n",
            "  encoded and predicted part 14\n",
            "Loaded 500000 rows of TEST.CSV!\n",
            "  encoded and predicted part 15\n",
            "Loaded 353253 rows of TEST.CSV!\n",
            "  encoded and predicted part 16\n"
          ],
          "name": "stdout"
        }
      ]
    },
    {
      "cell_type": "code",
      "metadata": {
        "id": "TYxzudneM_wX",
        "colab_type": "code",
        "outputId": "45f5a6dd-83c1-4aed-f7c2-bc04e32f49c9",
        "colab": {
          "base_uri": "https://localhost:8080/",
          "height": 35
        }
      },
      "source": [
        "gc.collect()"
      ],
      "execution_count": 0,
      "outputs": [
        {
          "output_type": "execute_result",
          "data": {
            "text/plain": [
              "16"
            ]
          },
          "metadata": {
            "tags": []
          },
          "execution_count": 20
        }
      ]
    },
    {
      "cell_type": "code",
      "metadata": {
        "id": "VNw3lOACQrst",
        "colab_type": "code",
        "outputId": "236f0824-7ab2-4da4-ea71-a2be8e612898",
        "colab": {
          "base_uri": "https://localhost:8080/",
          "height": 35
        }
      },
      "source": [
        "del df_test\n",
        "gc.collect()"
      ],
      "execution_count": 0,
      "outputs": [
        {
          "output_type": "execute_result",
          "data": {
            "text/plain": [
              "682"
            ]
          },
          "metadata": {
            "tags": []
          },
          "execution_count": 21
        }
      ]
    },
    {
      "cell_type": "code",
      "metadata": {
        "id": "RFlaXoQLQseM",
        "colab_type": "code",
        "colab": {}
      },
      "source": [
        "df_test = pd.read_csv('/content/drive/My Drive/Microsoft Malware/sample_submission.csv', usecols=['MachineIdentifier'])\n",
        "df_test['HasDetections'] = pred\n",
        "df_test.to_csv('NN@2.csv', index=False)"
      ],
      "execution_count": 0,
      "outputs": []
    },
    {
      "cell_type": "code",
      "metadata": {
        "id": "tCWYBbDzQvLH",
        "colab_type": "code",
        "colab": {}
      },
      "source": [
        ""
      ],
      "execution_count": 0,
      "outputs": []
    }
  ]
}