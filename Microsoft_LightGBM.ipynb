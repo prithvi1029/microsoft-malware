{
  "nbformat": 4,
  "nbformat_minor": 0,
  "metadata": {
    "colab": {
      "name": "Microsoft_LightGBM.ipynb",
      "version": "0.3.2",
      "provenance": []
    },
    "kernelspec": {
      "name": "python3",
      "display_name": "Python 3"
    },
    "accelerator": "GPU"
  },
  "cells": [
    {
      "cell_type": "code",
      "metadata": {
        "id": "LfCLBsWcgNou",
        "colab_type": "code",
        "outputId": "f693b8be-224c-4058-c8aa-685722c50cb0",
        "colab": {
          "base_uri": "https://localhost:8080/",
          "height": 128
        }
      },
      "source": [
        "from google.colab import drive\n",
        "drive.mount('/content/drive')"
      ],
      "execution_count": 0,
      "outputs": [
        {
          "output_type": "stream",
          "text": [
            "Go to this URL in a browser: https://accounts.google.com/o/oauth2/auth?client_id=947318989803-6bn6qk8qdgf4n4g3pfee6491hc0brc4i.apps.googleusercontent.com&redirect_uri=urn%3Aietf%3Awg%3Aoauth%3A2.0%3Aoob&scope=email%20https%3A%2F%2Fwww.googleapis.com%2Fauth%2Fdocs.test%20https%3A%2F%2Fwww.googleapis.com%2Fauth%2Fdrive%20https%3A%2F%2Fwww.googleapis.com%2Fauth%2Fdrive.photos.readonly%20https%3A%2F%2Fwww.googleapis.com%2Fauth%2Fpeopleapi.readonly&response_type=code\n",
            "\n",
            "Enter your authorization code:\n",
            "··········\n",
            "Mounted at /content/drive\n"
          ],
          "name": "stdout"
        }
      ]
    },
    {
      "cell_type": "code",
      "metadata": {
        "id": "ptFuI7R9gvJ6",
        "colab_type": "code",
        "colab": {}
      },
      "source": [
        "import pandas as pd\n",
        "import numpy as np\n",
        "import lightgbm as lgb\n",
        "#import xgboost as xgb\n",
        "from scipy.sparse import vstack, csr_matrix, save_npz, load_npz\n",
        "from sklearn.preprocessing import LabelEncoder, OneHotEncoder\n",
        "from sklearn.model_selection import StratifiedKFold\n",
        "#from sklearn.metrics import roc_auc_score\n",
        "import gc\n",
        "gc.enable()"
      ],
      "execution_count": 0,
      "outputs": []
    },
    {
      "cell_type": "code",
      "metadata": {
        "id": "L0nEtXxJilOK",
        "colab_type": "code",
        "colab": {}
      },
      "source": [
        "dtypes = {\n",
        "        'MachineIdentifier':                                    'category',\n",
        "        'ProductName':                                          'category',\n",
        "        'EngineVersion':                                        'category',\n",
        "        'AppVersion':                                           'category',\n",
        "        'AvSigVersion':                                         'category',\n",
        "        'IsBeta':                                               'category',\n",
        "        'RtpStateBitfield':                                     'float16',\n",
        "        'IsSxsPassiveMode':                                     'int8',\n",
        "        'DefaultBrowsersIdentifier':                            'float16',\n",
        "        'AVProductStatesIdentifier':                            'float32',\n",
        "        'AVProductsInstalled':                                  'float16',\n",
        "        'AVProductsEnabled':                                    'float16',\n",
        "        'HasTpm':                                               'int8',\n",
        "        'CountryIdentifier':                                    'int16',\n",
        "        'CityIdentifier':                                       'float32',\n",
        "        'OrganizationIdentifier':                               'float16',\n",
        "        'GeoNameIdentifier':                                    'float16',\n",
        "        'LocaleEnglishNameIdentifier':                          'int8',\n",
        "        'Platform':                                             'category',\n",
        "        'Processor':                                            'category',\n",
        "        'OsVer':                                                'category',\n",
        "        'OsBuild':                                              'int16',\n",
        "        'OsSuite':                                              'int16',\n",
        "        'OsPlatformSubRelease':                                 'category',\n",
        "        'OsBuildLab':                                           'category',\n",
        "        'SkuEdition':                                           'category',\n",
        "        'IsProtected':                                          'float16',\n",
        "        'AutoSampleOptIn':                                      'int8',\n",
        "        'PuaMode':                                              'category',\n",
        "        'SMode':                                                'float16',\n",
        "        'IeVerIdentifier':                                      'float16',\n",
        "        'SmartScreen':                                          'category',\n",
        "        'Firewall':                                             'float16',\n",
        "        'UacLuaenable':                                         'float32',\n",
        "        'Census_MDC2FormFactor':                                'category',\n",
        "        'Census_DeviceFamily':                                  'category',\n",
        "        'Census_OEMNameIdentifier':                             'float16',\n",
        "        'Census_OEMModelIdentifier':                            'float32',\n",
        "        'Census_ProcessorCoreCount':                            'float16',\n",
        "        'Census_ProcessorManufacturerIdentifier':               'float16',\n",
        "        'Census_ProcessorModelIdentifier':                      'float16',\n",
        "        'Census_ProcessorClass':                                'category',\n",
        "        'Census_PrimaryDiskTotalCapacity':                      'float32',\n",
        "        'Census_PrimaryDiskTypeName':                           'category',\n",
        "        'Census_SystemVolumeTotalCapacity':                     'float32',\n",
        "        'Census_HasOpticalDiskDrive':                           'int8',\n",
        "        'Census_TotalPhysicalRAM':                              'float32',\n",
        "        'Census_ChassisTypeName':                               'category',\n",
        "        'Census_InternalPrimaryDiagonalDisplaySizeInInches':    'float16',\n",
        "        'Census_InternalPrimaryDisplayResolutionHorizontal':    'float16',\n",
        "        'Census_InternalPrimaryDisplayResolutionVertical':      'float16',\n",
        "        'Census_PowerPlatformRoleName':                         'category',\n",
        "        'Census_InternalBatteryType':                           'category',\n",
        "        'Census_InternalBatteryNumberOfCharges':                'float32',\n",
        "        'Census_OSVersion':                                     'category',\n",
        "        'Census_OSArchitecture':                                'category',\n",
        "        'Census_OSBranch':                                      'category',\n",
        "        'Census_OSBuildNumber':                                 'int16',\n",
        "        'Census_OSBuildRevision':                               'int32',\n",
        "        'Census_OSEdition':                                     'category',\n",
        "        'Census_OSSkuName':                                     'category',\n",
        "        'Census_OSInstallTypeName':                             'category',\n",
        "        'Census_OSInstallLanguageIdentifier':                   'float16',\n",
        "        'Census_OSUILocaleIdentifier':                          'int16',\n",
        "        'Census_OSWUAutoUpdateOptionsName':                     'category',\n",
        "        'Census_IsPortableOperatingSystem':                     'int8',\n",
        "        'Census_GenuineStateName':                              'category',\n",
        "        'Census_ActivationChannel':                             'category',\n",
        "        'Census_IsFlightingInternal':                           'float16',\n",
        "        'Census_IsFlightsDisabled':                             'float16',\n",
        "        'Census_FlightRing':                                    'category',\n",
        "        'Census_ThresholdOptIn':                                'float16',\n",
        "        'Census_FirmwareManufacturerIdentifier':                'float16',\n",
        "        'Census_FirmwareVersionIdentifier':                     'float32',\n",
        "        'Census_IsSecureBootEnabled':                           'int8',\n",
        "        'Census_IsWIMBootEnabled':                              'float16',\n",
        "        'Census_IsVirtualDevice':                               'float16',\n",
        "        'Census_IsTouchEnabled':                                'int8',\n",
        "        'Census_IsPenCapable':                                  'int8',\n",
        "        'Census_IsAlwaysOnAlwaysConnectedCapable':              'float16',\n",
        "        'Wdft_IsGamer':                                         'float16',\n",
        "        'Wdft_RegionIdentifier':                                'float16',\n",
        "        'HasDetections':                                        'int8'\n",
        "        }"
      ],
      "execution_count": 0,
      "outputs": []
    },
    {
      "cell_type": "code",
      "metadata": {
        "id": "Mku8fkoMhfiu",
        "colab_type": "code",
        "outputId": "6f78e286-bdd5-42fa-a227-25c857eef973",
        "colab": {
          "base_uri": "https://localhost:8080/",
          "height": 53
        }
      },
      "source": [
        "%%time\n",
        "train=pd.read_csv('/content/drive/My Drive/Microsoft Malware/train.csv',dtype=dtypes,low_memory=True)\n",
        "train.shape\n",
        "gc.collect()"
      ],
      "execution_count": 0,
      "outputs": [
        {
          "output_type": "stream",
          "text": [
            "CPU times: user 2min 23s, sys: 5.63 s, total: 2min 28s\n",
            "Wall time: 2min 35s\n"
          ],
          "name": "stdout"
        }
      ]
    },
    {
      "cell_type": "code",
      "metadata": {
        "id": "vaQ8_Mf3htqY",
        "colab_type": "code",
        "colab": {}
      },
      "source": [
        "Ind1=['IsProtected', 'Census_IsAlwaysOnAlwaysConnectedCapable',\n",
        "       'Census_FlightRing', 'Census_HasOpticalDiskDrive',\n",
        "       'Census_OSArchitecture', 'Census_GenuineStateName',\n",
        "       'Census_IsTouchEnabled', 'Census_InternalBatteryType', 'SmartScreen',\n",
        "       'Wdft_IsGamer', 'AVProductsInstalled', 'Census_PowerPlatformRoleName',\n",
        "       'OrganizationIdentifier', 'AVProductStatesIdentifier',\n",
        "       'Census_PrimaryDiskTypeName', 'Census_MDC2FormFactor',\n",
        "       'Census_ProcessorCoreCount', 'Census_ChassisTypeName',\n",
        "       'Census_InternalBatteryNumberOfCharges', 'AppVersion',\n",
        "       'Census_ActivationChannel', 'Census_IsSecureBootEnabled',\n",
        "       'Census_InternalPrimaryDisplayResolutionHorizontal',\n",
        "       'Census_TotalPhysicalRAM', 'Census_OSBranch',\n",
        "       'Census_OSWUAutoUpdateOptionsName', 'OsPlatformSubRelease',\n",
        "       'OsBuildLab', 'Census_OSEdition', 'Census_OSUILocaleIdentifier',\n",
        "       'Census_InternalPrimaryDiagonalDisplaySizeInInches',\n",
        "       'Census_PrimaryDiskTotalCapacity',\n",
        "       'Census_FirmwareManufacturerIdentifier', 'Census_OSInstallTypeName',\n",
        "       'LocaleEnglishNameIdentifier', 'Wdft_RegionIdentifier',\n",
        "       'GeoNameIdentifier', 'Census_OSBuildRevision', 'Census_OSVersion',\n",
        "       'Census_OEMNameIdentifier', 'CountryIdentifier',\n",
        "       'Census_OEMModelIdentifier', 'Census_ProcessorModelIdentifier',\n",
        "       'AvSigVersion', 'CityIdentifier', 'Census_FirmwareVersionIdentifier',\n",
        "       'Census_SystemVolumeTotalCapacity']"
      ],
      "execution_count": 0,
      "outputs": []
    },
    {
      "cell_type": "code",
      "metadata": {
        "id": "oV008DKMzW2J",
        "colab_type": "code",
        "colab": {}
      },
      "source": [
        "trainy=train.loc[:,'HasDetections']"
      ],
      "execution_count": 0,
      "outputs": []
    },
    {
      "cell_type": "code",
      "metadata": {
        "id": "tGsmkoAoiCrk",
        "colab_type": "code",
        "colab": {}
      },
      "source": [
        "train =train.loc[:,Ind1]"
      ],
      "execution_count": 0,
      "outputs": []
    },
    {
      "cell_type": "code",
      "metadata": {
        "id": "eATOhJwzlNCm",
        "colab_type": "code",
        "outputId": "ac365b0f-cf12-4e78-a7af-ad7ce50f21f4",
        "colab": {
          "base_uri": "https://localhost:8080/",
          "height": 35
        }
      },
      "source": [
        "train['MachineIdentifier'] = train.index.astype('uint32')\n",
        "gc.collect()"
      ],
      "execution_count": 0,
      "outputs": [
        {
          "output_type": "execute_result",
          "data": {
            "text/plain": [
              "334"
            ]
          },
          "metadata": {
            "tags": []
          },
          "execution_count": 7
        }
      ]
    },
    {
      "cell_type": "code",
      "metadata": {
        "id": "C69CaQEdjZz7",
        "colab_type": "code",
        "outputId": "bf12e564-4dad-4c41-a096-86bd80f97294",
        "colab": {
          "base_uri": "https://localhost:8080/",
          "height": 53
        }
      },
      "source": [
        "%%time\n",
        "test=pd.read_csv('/content/drive/My Drive/Microsoft Malware/test.csv',dtype=dtypes,low_memory=True)\n",
        "test.shape\n",
        "gc.collect()"
      ],
      "execution_count": 0,
      "outputs": [
        {
          "output_type": "stream",
          "text": [
            "CPU times: user 2min 9s, sys: 4.45 s, total: 2min 14s\n",
            "Wall time: 2min 20s\n"
          ],
          "name": "stdout"
        }
      ]
    },
    {
      "cell_type": "code",
      "metadata": {
        "id": "9fCaI3KprjFN",
        "colab_type": "code",
        "colab": {}
      },
      "source": [
        "Ind2=['IsProtected', 'Census_IsAlwaysOnAlwaysConnectedCapable',\n",
        "       'Census_FlightRing', 'Census_HasOpticalDiskDrive',\n",
        "       'Census_OSArchitecture', 'Census_GenuineStateName',\n",
        "       'Census_IsTouchEnabled', 'Census_InternalBatteryType', 'SmartScreen',\n",
        "       'Wdft_IsGamer', 'AVProductsInstalled', 'Census_PowerPlatformRoleName',\n",
        "       'OrganizationIdentifier', 'AVProductStatesIdentifier',\n",
        "       'Census_PrimaryDiskTypeName', 'Census_MDC2FormFactor',\n",
        "       'Census_ProcessorCoreCount', 'Census_ChassisTypeName',\n",
        "       'Census_InternalBatteryNumberOfCharges', 'AppVersion',\n",
        "       'Census_ActivationChannel', 'Census_IsSecureBootEnabled',\n",
        "       'Census_InternalPrimaryDisplayResolutionHorizontal',\n",
        "       'Census_TotalPhysicalRAM', 'Census_OSBranch',\n",
        "       'Census_OSWUAutoUpdateOptionsName', 'OsPlatformSubRelease',\n",
        "       'OsBuildLab', 'Census_OSEdition', 'Census_OSUILocaleIdentifier',\n",
        "       'Census_InternalPrimaryDiagonalDisplaySizeInInches',\n",
        "       'Census_PrimaryDiskTotalCapacity',\n",
        "       'Census_FirmwareManufacturerIdentifier', 'Census_OSInstallTypeName',\n",
        "       'LocaleEnglishNameIdentifier', 'Wdft_RegionIdentifier',\n",
        "       'GeoNameIdentifier', 'Census_OSBuildRevision', 'Census_OSVersion',\n",
        "       'Census_OEMNameIdentifier', 'CountryIdentifier',\n",
        "       'Census_OEMModelIdentifier', 'Census_ProcessorModelIdentifier',\n",
        "       'AvSigVersion', 'CityIdentifier', 'Census_FirmwareVersionIdentifier',\n",
        "       'Census_SystemVolumeTotalCapacity']"
      ],
      "execution_count": 0,
      "outputs": []
    },
    {
      "cell_type": "code",
      "metadata": {
        "id": "w75jU98klKxd",
        "colab_type": "code",
        "colab": {}
      },
      "source": [
        "test=test.loc[:,Ind2]\n",
        "test['MachineIdentifier']  = test.index.astype('uint32')"
      ],
      "execution_count": 0,
      "outputs": []
    },
    {
      "cell_type": "code",
      "metadata": {
        "id": "aJKGxACRliiD",
        "colab_type": "code",
        "outputId": "65537ae8-d806-4320-b0fd-ef604a3bb94d",
        "colab": {
          "base_uri": "https://localhost:8080/",
          "height": 35
        }
      },
      "source": [
        "gc.collect()"
      ],
      "execution_count": 0,
      "outputs": [
        {
          "output_type": "execute_result",
          "data": {
            "text/plain": [
              "340"
            ]
          },
          "metadata": {
            "tags": []
          },
          "execution_count": 11
        }
      ]
    },
    {
      "cell_type": "code",
      "metadata": {
        "id": "3ItoBEpzryXn",
        "colab_type": "code",
        "colab": {}
      },
      "source": [
        "for usecol in train.columns.tolist()[1:-1]:\n",
        "\n",
        "    train[usecol] = train[usecol].astype('str')\n",
        "    test[usecol] = test[usecol].astype('str')\n",
        "    \n",
        "    #Fit LabelEncoder\n",
        "    le = LabelEncoder().fit(\n",
        "            np.unique(train[usecol].unique().tolist()+\n",
        "                      test[usecol].unique().tolist()))\n",
        "\n",
        "    #At the end 0 will be used for dropped values\n",
        "    train[usecol] = le.transform(train[usecol])+1\n",
        "    test[usecol]  = le.transform(test[usecol])+1\n",
        "\n",
        "    agg_tr = (train\n",
        "              .groupby([usecol])\n",
        "              .aggregate({'MachineIdentifier':'count'})\n",
        "              .reset_index()\n",
        "              .rename({'MachineIdentifier':'Train'}, axis=1))\n",
        "    agg_te = (test\n",
        "              .groupby([usecol])\n",
        "              .aggregate({'MachineIdentifier':'count'})\n",
        "              .reset_index()\n",
        "              .rename({'MachineIdentifier':'Test'}, axis=1))\n",
        "\n",
        "    agg = pd.merge(agg_tr, agg_te, on=usecol, how='outer').replace(np.nan, 0)\n",
        "    #Select values with more than 1000 observations\n",
        "    agg = agg[(agg['Train'] > 1000)].reset_index(drop=True)\n",
        "    agg['Total'] = agg['Train'] + agg['Test']\n",
        "    #Drop unbalanced values\n",
        "    agg = agg[(agg['Train'] / agg['Total'] > 0.2) & (agg['Train'] / agg['Total'] < 0.8)]\n",
        "    agg[usecol+'Copy'] = agg[usecol]\n",
        "\n",
        "    train[usecol] = (pd.merge(train[[usecol]], \n",
        "                              agg[[usecol, usecol+'Copy']], \n",
        "                              on=usecol, how='left')[usecol+'Copy']\n",
        "                     .replace(np.nan, 0).astype('int').astype('category'))\n",
        "\n",
        "    test[usecol]  = (pd.merge(test[[usecol]], \n",
        "                              agg[[usecol, usecol+'Copy']], \n",
        "                              on=usecol, how='left')[usecol+'Copy']\n",
        "                     .replace(np.nan, 0).astype('int').astype('category'))\n",
        "\n",
        "    del le, agg_tr, agg_te, agg, usecol\n",
        "    gc.collect()"
      ],
      "execution_count": 0,
      "outputs": []
    },
    {
      "cell_type": "code",
      "metadata": {
        "id": "anDoqx2atYrt",
        "colab_type": "code",
        "outputId": "a22bd14e-d980-4e53-e410-357e643a9b3f",
        "colab": {
          "base_uri": "https://localhost:8080/",
          "height": 907
        }
      },
      "source": [
        "(test.isnull().mean()).sort_values(ascending=False)"
      ],
      "execution_count": 0,
      "outputs": [
        {
          "output_type": "execute_result",
          "data": {
            "text/plain": [
              "IsProtected                                          0.003011\n",
              "Census_SystemVolumeTotalCapacity                     0.000000\n",
              "Census_IsSecureBootEnabled                           0.000000\n",
              "Census_ActivationChannel                             0.000000\n",
              "AppVersion                                           0.000000\n",
              "Census_InternalBatteryNumberOfCharges                0.000000\n",
              "Census_ChassisTypeName                               0.000000\n",
              "Census_ProcessorCoreCount                            0.000000\n",
              "Census_MDC2FormFactor                                0.000000\n",
              "Census_PrimaryDiskTypeName                           0.000000\n",
              "AVProductStatesIdentifier                            0.000000\n",
              "OrganizationIdentifier                               0.000000\n",
              "Census_PowerPlatformRoleName                         0.000000\n",
              "AVProductsInstalled                                  0.000000\n",
              "Wdft_IsGamer                                         0.000000\n",
              "SmartScreen                                          0.000000\n",
              "Census_InternalBatteryType                           0.000000\n",
              "Census_IsTouchEnabled                                0.000000\n",
              "Census_GenuineStateName                              0.000000\n",
              "Census_OSArchitecture                                0.000000\n",
              "Census_HasOpticalDiskDrive                           0.000000\n",
              "Census_FlightRing                                    0.000000\n",
              "Census_IsAlwaysOnAlwaysConnectedCapable              0.000000\n",
              "Census_InternalPrimaryDisplayResolutionHorizontal    0.000000\n",
              "MachineIdentifier                                    0.000000\n",
              "Census_OSBranch                                      0.000000\n",
              "GeoNameIdentifier                                    0.000000\n",
              "Census_FirmwareVersionIdentifier                     0.000000\n",
              "CityIdentifier                                       0.000000\n",
              "AvSigVersion                                         0.000000\n",
              "Census_ProcessorModelIdentifier                      0.000000\n",
              "Census_OEMModelIdentifier                            0.000000\n",
              "CountryIdentifier                                    0.000000\n",
              "Census_OEMNameIdentifier                             0.000000\n",
              "Census_OSVersion                                     0.000000\n",
              "Census_OSBuildRevision                               0.000000\n",
              "Wdft_RegionIdentifier                                0.000000\n",
              "Census_OSWUAutoUpdateOptionsName                     0.000000\n",
              "LocaleEnglishNameIdentifier                          0.000000\n",
              "Census_OSInstallTypeName                             0.000000\n",
              "Census_FirmwareManufacturerIdentifier                0.000000\n",
              "Census_PrimaryDiskTotalCapacity                      0.000000\n",
              "Census_InternalPrimaryDiagonalDisplaySizeInInches    0.000000\n",
              "Census_OSUILocaleIdentifier                          0.000000\n",
              "Census_OSEdition                                     0.000000\n",
              "OsBuildLab                                           0.000000\n",
              "OsPlatformSubRelease                                 0.000000\n",
              "Census_TotalPhysicalRAM                              0.000000\n",
              "dtype: float64"
            ]
          },
          "metadata": {
            "tags": []
          },
          "execution_count": 13
        }
      ]
    },
    {
      "cell_type": "code",
      "metadata": {
        "id": "VcsCx8GR9QoJ",
        "colab_type": "code",
        "colab": {}
      },
      "source": [
        "for column in ['IsProtected']:\n",
        "    train[column].fillna(train[column].mode()[0], inplace=True)"
      ],
      "execution_count": 0,
      "outputs": []
    },
    {
      "cell_type": "code",
      "metadata": {
        "id": "dOzh-rM__jLS",
        "colab_type": "code",
        "outputId": "e1a5d7dc-5d30-42ca-c2f8-ab088222b92f",
        "colab": {
          "base_uri": "https://localhost:8080/",
          "height": 35
        }
      },
      "source": [
        "gc.collect()"
      ],
      "execution_count": 0,
      "outputs": [
        {
          "output_type": "execute_result",
          "data": {
            "text/plain": [
              "129"
            ]
          },
          "metadata": {
            "tags": []
          },
          "execution_count": 15
        }
      ]
    },
    {
      "cell_type": "code",
      "metadata": {
        "id": "pxRjdfHX_mWH",
        "colab_type": "code",
        "colab": {}
      },
      "source": [
        "for column in ['IsProtected']:\n",
        "    test[column].fillna(test[column].mode()[0], inplace=True)"
      ],
      "execution_count": 0,
      "outputs": []
    },
    {
      "cell_type": "code",
      "metadata": {
        "id": "_8Yh_kfqAWP_",
        "colab_type": "code",
        "colab": {}
      },
      "source": [
        "train_ids = train.index\n",
        "test_ids  = test.index"
      ],
      "execution_count": 0,
      "outputs": []
    },
    {
      "cell_type": "code",
      "metadata": {
        "id": "soteESYdAgNG",
        "colab_type": "code",
        "outputId": "8d29355e-b951-4f77-b3a4-e0edd7b81948",
        "colab": {
          "base_uri": "https://localhost:8080/",
          "height": 35
        }
      },
      "source": [
        "del train['MachineIdentifier'], test['MachineIdentifier']\n",
        "gc.collect()"
      ],
      "execution_count": 0,
      "outputs": [
        {
          "output_type": "execute_result",
          "data": {
            "text/plain": [
              "143"
            ]
          },
          "metadata": {
            "tags": []
          },
          "execution_count": 18
        }
      ]
    },
    {
      "cell_type": "code",
      "metadata": {
        "id": "uaahAvgs_rKx",
        "colab_type": "code",
        "colab": {}
      },
      "source": [
        "ohe = OneHotEncoder(categories='auto', sparse=True, dtype='uint8').fit(train)\n",
        "gc.collect()\n",
        "\n",
        "#Transform data using small groups to reduce memory usage\n",
        "m = 100000\n",
        "train = vstack([ohe.transform(train[i*m:(i+1)*m]) for i in range(train.shape[0] // m + 1)])\n",
        "test  = vstack([ohe.transform(test[i*m:(i+1)*m])  for i in range(test.shape[0] // m +  1)])\n",
        "save_npz('train.npz', train, compressed=True)\n",
        "save_npz('test.npz',  test,  compressed=True)"
      ],
      "execution_count": 0,
      "outputs": []
    },
    {
      "cell_type": "code",
      "metadata": {
        "id": "dBj7KPfW_5QV",
        "colab_type": "code",
        "outputId": "c5034b87-6cca-4389-aa64-7eced27b81af",
        "colab": {
          "base_uri": "https://localhost:8080/",
          "height": 35
        }
      },
      "source": [
        "del ohe, train, test\n",
        "gc.collect()"
      ],
      "execution_count": 0,
      "outputs": [
        {
          "output_type": "execute_result",
          "data": {
            "text/plain": [
              "1344"
            ]
          },
          "metadata": {
            "tags": []
          },
          "execution_count": 20
        }
      ]
    },
    {
      "cell_type": "code",
      "metadata": {
        "id": "ojKjp8aIF5SX",
        "colab_type": "code",
        "colab": {}
      },
      "source": [
        "skf = StratifiedKFold(n_splits=4, shuffle=True, random_state=42)\n",
        "skf.get_n_splits(train_ids, trainy)\n",
        "\n",
        "lgb_test_result  = np.zeros(test_ids.shape[0])"
      ],
      "execution_count": 0,
      "outputs": []
    },
    {
      "cell_type": "code",
      "metadata": {
        "id": "6k1etqEyGEqg",
        "colab_type": "code",
        "outputId": "b75ce4a9-eadf-4b18-eaae-b456c286fe09",
        "colab": {
          "base_uri": "https://localhost:8080/",
          "height": 35
        }
      },
      "source": [
        "counter = 0\n",
        "gc.collect()"
      ],
      "execution_count": 0,
      "outputs": [
        {
          "output_type": "execute_result",
          "data": {
            "text/plain": [
              "0"
            ]
          },
          "metadata": {
            "tags": []
          },
          "execution_count": 22
        }
      ]
    },
    {
      "cell_type": "code",
      "metadata": {
        "id": "b3rucl06GPoA",
        "colab_type": "code",
        "outputId": "b579277c-6793-4e08-b5e8-2ae088c67434",
        "colab": {
          "base_uri": "https://localhost:8080/",
          "height": 146
        }
      },
      "source": [
        "!pip install lightgbm --install-option=--gpu"
      ],
      "execution_count": 0,
      "outputs": [
        {
          "output_type": "stream",
          "text": [
            "/usr/local/lib/python3.6/dist-packages/pip/_internal/commands/install.py:207: UserWarning: Disabling all use of wheels due to the use of --build-options / --global-options / --install-options.\n",
            "  cmdoptions.check_install_build_global(options)\n",
            "Requirement already satisfied: lightgbm in /usr/local/lib/python3.6/dist-packages (2.2.3)\n",
            "Requirement already satisfied: numpy in /usr/local/lib/python3.6/dist-packages (from lightgbm) (1.14.6)\n",
            "Requirement already satisfied: scipy in /usr/local/lib/python3.6/dist-packages (from lightgbm) (1.1.0)\n",
            "Requirement already satisfied: scikit-learn in /usr/local/lib/python3.6/dist-packages (from lightgbm) (0.20.2)\n"
          ],
          "name": "stdout"
        }
      ]
    },
    {
      "cell_type": "code",
      "metadata": {
        "id": "sy9lgrMdGJGl",
        "colab_type": "code",
        "outputId": "b8b69f4a-d822-4c0e-9516-f62266a18a52",
        "colab": {
          "base_uri": "https://localhost:8080/",
          "height": 108
        }
      },
      "source": [
        "for train_index, test_index in skf.split(train_ids, trainy):\n",
        "    \n",
        "    print('Fold {}\\n'.format(counter + 1))\n",
        "    \n",
        "    train = load_npz('train.npz')\n",
        "    X_fit = vstack([train[train_index[i*m:(i+1)*m]] for i in range(train_index.shape[0] // m + 1)])\n",
        "    X_val = vstack([train[test_index[i*m:(i+1)*m]]  for i in range(test_index.shape[0] //  m + 1)])\n",
        "    X_fit, X_val = csr_matrix(X_fit, dtype='float32'), csr_matrix(X_val, dtype='float32')\n",
        "    y_fit, y_val = trainy[train_index], trainy[test_index]\n",
        "    \n",
        "    del train\n",
        "    gc.collect()\n",
        "\n",
        "    lgb_model = lgb.LGBMClassifier(max_depth=-1,\n",
        "                                   n_estimators=20000,\n",
        "                                   learning_rate=0.05,\n",
        "                                   num_leaves=2**12-1,\n",
        "                                   colsample_bytree=0.28,\n",
        "                                   objective='binary',\n",
        "                                   n_jobs=-1)\n",
        "    lgb_model.fit(X_fit, y_fit, eval_metric='auc', \n",
        "                  eval_set=[(X_val, y_val)], \n",
        "                  verbose=100, early_stopping_rounds=100)\n",
        "    del X_fit, X_val, y_fit, y_val, train_index, test_index\n",
        "    gc.collect()\n",
        "    \n",
        "    test = load_npz('test.npz')\n",
        "    test = csr_matrix(test, dtype='float32')\n",
        "    lgb_test_result += lgb_model.predict_proba(test)[:,1]\n",
        "    #xgb_test_result += xgb_model.predict_proba(test)[:,1]\n",
        "    counter += 1\n",
        "    \n",
        "    del test\n",
        "    gc.collect()"
      ],
      "execution_count": 0,
      "outputs": [
        {
          "output_type": "stream",
          "text": [
            "Fold 1\n",
            "\n",
            "Training until validation scores don't improve for 100 rounds.\n",
            "[100]\tvalid_0's binary_logloss: 0.608721\tvalid_0's auc: 0.727328\n",
            "[200]\tvalid_0's binary_logloss: 0.602137\tvalid_0's auc: 0.732488\n"
          ],
          "name": "stdout"
        }
      ]
    },
    {
      "cell_type": "code",
      "metadata": {
        "id": "2uxQzuhMG_CB",
        "colab_type": "code",
        "colab": {}
      },
      "source": [
        "gc.collect()"
      ],
      "execution_count": 0,
      "outputs": []
    },
    {
      "cell_type": "code",
      "metadata": {
        "id": "NEoyUFMvHEg_",
        "colab_type": "code",
        "colab": {}
      },
      "source": [
        "submission=pd.read_csv('/content/drive/My Drive/Microsoft Malware/sample_submission.csv')\n",
        "submission['HasDetections'] = lgb_test_result / counter\n",
        "submission.to_csv('lgb_submission.csv', index=False)"
      ],
      "execution_count": 0,
      "outputs": []
    },
    {
      "cell_type": "code",
      "metadata": {
        "id": "-t0Re8ARgtg5",
        "colab_type": "code",
        "colab": {}
      },
      "source": [
        ""
      ],
      "execution_count": 0,
      "outputs": []
    }
  ]
}