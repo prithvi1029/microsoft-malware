{
  "nbformat": 4,
  "nbformat_minor": 0,
  "metadata": {
    "colab": {
      "name": "Microsoft_NFFM & xDeepFM.ipynb",
      "version": "0.3.2",
      "provenance": [],
      "collapsed_sections": []
    },
    "kernelspec": {
      "name": "python3",
      "display_name": "Python 3"
    }
  },
  "cells": [
    {
      "cell_type": "code",
      "metadata": {
        "id": "P9ayvDYLaRA1",
        "colab_type": "code",
        "outputId": "35056b2d-0451-4cca-e1e4-323222b9069b",
        "colab": {
          "base_uri": "https://localhost:8080/",
          "height": 344
        }
      },
      "source": [
        "!git clone https://github.com/guoday/ctrNet-tool.git\n",
        "!cp -r ctrNet-tool/* ./\n",
        "!rm -r ctrNet-tool data .git\n",
        "!ls -all"
      ],
      "execution_count": 0,
      "outputs": [
        {
          "output_type": "stream",
          "text": [
            "Cloning into 'ctrNet-tool'...\n",
            "remote: Enumerating objects: 168, done.\u001b[K\n",
            "remote: Counting objects: 100% (168/168), done.\u001b[K\n",
            "remote: Compressing objects: 100% (79/79), done.\u001b[K\n",
            "remote: Total 168 (delta 86), reused 168 (delta 86), pack-reused 0\u001b[K\n",
            "Receiving objects: 100% (168/168), 8.42 MiB | 18.86 MiB/s, done.\n",
            "Resolving deltas: 100% (86/86), done.\n",
            "rm: cannot remove '.git': No such file or directory\n",
            "total 40\n",
            "drwxr-xr-x 1 root root 4096 May  5 00:33 .\n",
            "drwxr-xr-x 1 root root 4096 May  5 00:32 ..\n",
            "drwxr-xr-x 1 root root 4096 Apr 29 16:32 .config\n",
            "-rw-r--r-- 1 root root  772 May  5 00:33 ctrNet.py\n",
            "drwxr-xr-x 2 root root 4096 May  5 00:33 models\n",
            "-rw-r--r-- 1 root root 2402 May  5 00:33 README.md\n",
            "drwxr-xr-x 1 root root 4096 Apr 29 16:32 sample_data\n",
            "drwxr-xr-x 2 root root 4096 May  5 00:33 src\n",
            "-rw-r--r-- 1 root root 5225 May  5 00:33 test.py\n"
          ],
          "name": "stdout"
        }
      ]
    },
    {
      "cell_type": "code",
      "metadata": {
        "id": "RrG1i_7UaWjf",
        "colab_type": "code",
        "outputId": "3f444380-b4bf-4bca-b27e-0e2838ecaef4",
        "colab": {
          "base_uri": "https://localhost:8080/",
          "height": 128
        }
      },
      "source": [
        "from google.colab import drive\n",
        "drive.mount('/content/drive')"
      ],
      "execution_count": 0,
      "outputs": [
        {
          "output_type": "stream",
          "text": [
            "Go to this URL in a browser: https://accounts.google.com/o/oauth2/auth?client_id=947318989803-6bn6qk8qdgf4n4g3pfee6491hc0brc4i.apps.googleusercontent.com&redirect_uri=urn%3Aietf%3Awg%3Aoauth%3A2.0%3Aoob&scope=email%20https%3A%2F%2Fwww.googleapis.com%2Fauth%2Fdocs.test%20https%3A%2F%2Fwww.googleapis.com%2Fauth%2Fdrive%20https%3A%2F%2Fwww.googleapis.com%2Fauth%2Fdrive.photos.readonly%20https%3A%2F%2Fwww.googleapis.com%2Fauth%2Fpeopleapi.readonly&response_type=code\n",
            "\n",
            "Enter your authorization code:\n",
            "··········\n",
            "Mounted at /content/drive\n"
          ],
          "name": "stdout"
        }
      ]
    },
    {
      "cell_type": "code",
      "metadata": {
        "id": "Dg0M181DaYVv",
        "colab_type": "code",
        "colab": {}
      },
      "source": [
        "import pandas as pd\n",
        "import numpy as np"
      ],
      "execution_count": 0,
      "outputs": []
    },
    {
      "cell_type": "code",
      "metadata": {
        "id": "udMYhjVlaooi",
        "colab_type": "code",
        "colab": {}
      },
      "source": [
        "dtypes = {\n",
        "        'MachineIdentifier':                                    'category',\n",
        "        'ProductName':                                          'category',\n",
        "        'EngineVersion':                                        'category',\n",
        "        'AppVersion':                                           'category',\n",
        "        'AvSigVersion':                                         'category',\n",
        "        'IsBeta':                                               'category',\n",
        "        'RtpStateBitfield':                                     'float16',\n",
        "        'IsSxsPassiveMode':                                     'int8',\n",
        "        'DefaultBrowsersIdentifier':                            'float16',\n",
        "        'AVProductStatesIdentifier':                            'float32',\n",
        "        'AVProductsInstalled':                                  'float16',\n",
        "        'AVProductsEnabled':                                    'float16',\n",
        "        'HasTpm':                                               'int8',\n",
        "        'CountryIdentifier':                                    'int16',\n",
        "        'CityIdentifier':                                       'float32',\n",
        "        'OrganizationIdentifier':                               'float16',\n",
        "        'GeoNameIdentifier':                                    'float16',\n",
        "        'LocaleEnglishNameIdentifier':                          'int8',\n",
        "        'Platform':                                             'category',\n",
        "        'Processor':                                            'category',\n",
        "        'OsVer':                                                'category',\n",
        "        'OsBuild':                                              'int16',\n",
        "        'OsSuite':                                              'int16',\n",
        "        'OsPlatformSubRelease':                                 'category',\n",
        "        'OsBuildLab':                                           'category',\n",
        "        'SkuEdition':                                           'category',\n",
        "        'IsProtected':                                          'float16',\n",
        "        'AutoSampleOptIn':                                      'int8',\n",
        "        'PuaMode':                                              'category',\n",
        "        'SMode':                                                'float16',\n",
        "        'IeVerIdentifier':                                      'float16',\n",
        "        'SmartScreen':                                          'category',\n",
        "        'Firewall':                                             'float16',\n",
        "        'UacLuaenable':                                         'float32',\n",
        "        'Census_MDC2FormFactor':                                'category',\n",
        "        'Census_DeviceFamily':                                  'category',\n",
        "        'Census_OEMNameIdentifier':                             'float16',\n",
        "        'Census_OEMModelIdentifier':                            'float32',\n",
        "        'Census_ProcessorCoreCount':                            'float16',\n",
        "        'Census_ProcessorManufacturerIdentifier':               'float16',\n",
        "        'Census_ProcessorModelIdentifier':                      'float16',\n",
        "        'Census_ProcessorClass':                                'category',\n",
        "        'Census_PrimaryDiskTotalCapacity':                      'float32',\n",
        "        'Census_PrimaryDiskTypeName':                           'category',\n",
        "        'Census_SystemVolumeTotalCapacity':                     'float32',\n",
        "        'Census_HasOpticalDiskDrive':                           'int8',\n",
        "        'Census_TotalPhysicalRAM':                              'float32',\n",
        "        'Census_ChassisTypeName':                               'category',\n",
        "        'Census_InternalPrimaryDiagonalDisplaySizeInInches':    'float16',\n",
        "        'Census_InternalPrimaryDisplayResolutionHorizontal':    'float16',\n",
        "        'Census_InternalPrimaryDisplayResolutionVertical':      'float16',\n",
        "        'Census_PowerPlatformRoleName':                         'category',\n",
        "        'Census_InternalBatteryType':                           'category',\n",
        "        'Census_InternalBatteryNumberOfCharges':                'float32',\n",
        "        'Census_OSVersion':                                     'category',\n",
        "        'Census_OSArchitecture':                                'category',\n",
        "        'Census_OSBranch':                                      'category',\n",
        "        'Census_OSBuildNumber':                                 'int16',\n",
        "        'Census_OSBuildRevision':                               'int32',\n",
        "        'Census_OSEdition':                                     'category',\n",
        "        'Census_OSSkuName':                                     'category',\n",
        "        'Census_OSInstallTypeName':                             'category',\n",
        "        'Census_OSInstallLanguageIdentifier':                   'float16',\n",
        "        'Census_OSUILocaleIdentifier':                          'int16',\n",
        "        'Census_OSWUAutoUpdateOptionsName':                     'category',\n",
        "        'Census_IsPortableOperatingSystem':                     'int8',\n",
        "        'Census_GenuineStateName':                              'category',\n",
        "        'Census_ActivationChannel':                             'category',\n",
        "        'Census_IsFlightingInternal':                           'float16',\n",
        "        'Census_IsFlightsDisabled':                             'float16',\n",
        "        'Census_FlightRing':                                    'category',\n",
        "        'Census_ThresholdOptIn':                                'float16',\n",
        "        'Census_FirmwareManufacturerIdentifier':                'float16',\n",
        "        'Census_FirmwareVersionIdentifier':                     'float32',\n",
        "        'Census_IsSecureBootEnabled':                           'int8',\n",
        "        'Census_IsWIMBootEnabled':                              'float16',\n",
        "        'Census_IsVirtualDevice':                               'float16',\n",
        "        'Census_IsTouchEnabled':                                'int8',\n",
        "        'Census_IsPenCapable':                                  'int8',\n",
        "        'Census_IsAlwaysOnAlwaysConnectedCapable':              'float16',\n",
        "        'Wdft_IsGamer':                                         'float16',\n",
        "        'Wdft_RegionIdentifier':                                'float16',\n",
        "        'HasDetections':                                        'int8'\n",
        "        }"
      ],
      "execution_count": 0,
      "outputs": []
    },
    {
      "cell_type": "code",
      "metadata": {
        "id": "KywpP3l4aab_",
        "colab_type": "code",
        "colab": {}
      },
      "source": [
        "%%time\n",
        "train=pd.read_csv('/content/drive/My Drive/Microsoft Malware/train.csv',dtype=dtypes)\n",
        "train.shape"
      ],
      "execution_count": 0,
      "outputs": []
    },
    {
      "cell_type": "code",
      "metadata": {
        "id": "yskwoe9jaubk",
        "colab_type": "code",
        "colab": {}
      },
      "source": [
        "train = train.loc[:, na <= .9]\n",
        "train.info()"
      ],
      "execution_count": 0,
      "outputs": []
    },
    {
      "cell_type": "code",
      "metadata": {
        "id": "4uh66zG8axPN",
        "colab_type": "code",
        "colab": {}
      },
      "source": [
        "sk_df = pd.DataFrame([{'column': c, 'uniq': train[c].nunique(), 'skewness': train[c].value_counts(normalize=True).values[0] * 100} for c in train.columns])\n",
        "sk_df = sk_df.sort_values('skewness', ascending=False)\n",
        "sk_df"
      ],
      "execution_count": 0,
      "outputs": []
    },
    {
      "cell_type": "code",
      "metadata": {
        "id": "lWXWzkUcazZ4",
        "colab_type": "code",
        "colab": {}
      },
      "source": [
        "train.loc[:,sk_df[sk_df.skewness > 95].column].hist()"
      ],
      "execution_count": 0,
      "outputs": []
    },
    {
      "cell_type": "code",
      "metadata": {
        "id": "LfUmjdLda1ZF",
        "colab_type": "code",
        "colab": {}
      },
      "source": [
        "train =train.loc[:,sk_df[sk_df.skewness < 95].column]\n",
        "train.info()"
      ],
      "execution_count": 0,
      "outputs": []
    },
    {
      "cell_type": "code",
      "metadata": {
        "id": "y6PepCSQa3oQ",
        "colab_type": "code",
        "colab": {}
      },
      "source": [
        "train.isnull().sum()"
      ],
      "execution_count": 0,
      "outputs": []
    },
    {
      "cell_type": "code",
      "metadata": {
        "id": "Vbx7C6bNa5po",
        "colab_type": "code",
        "colab": {}
      },
      "source": [
        "train.loc[:,train.dtypes == 'category'].columns"
      ],
      "execution_count": 0,
      "outputs": []
    },
    {
      "cell_type": "code",
      "metadata": {
        "id": "Puf9WcD8a7dx",
        "colab_type": "code",
        "colab": {}
      },
      "source": [
        "train.loc[:,train.dtypes == 'category'].isnull().mean()"
      ],
      "execution_count": 0,
      "outputs": []
    },
    {
      "cell_type": "code",
      "metadata": {
        "id": "v_Cw6JqVa8_o",
        "colab_type": "code",
        "colab": {}
      },
      "source": [
        "for column in ['Census_InternalBatteryType','SmartScreen']:\n",
        "    train[column].fillna(train[column].mode()[0], inplace=True)"
      ],
      "execution_count": 0,
      "outputs": []
    },
    {
      "cell_type": "code",
      "metadata": {
        "id": "OczsgyAva-oY",
        "colab_type": "code",
        "colab": {}
      },
      "source": [
        "train.loc[:,train.dtypes == 'category'].isnull().mean()"
      ],
      "execution_count": 0,
      "outputs": []
    },
    {
      "cell_type": "code",
      "metadata": {
        "id": "FTXABmttbALK",
        "colab_type": "code",
        "colab": {}
      },
      "source": [
        "train.loc[:,train.dtypes == 'int8'].isnull().mean()"
      ],
      "execution_count": 0,
      "outputs": []
    },
    {
      "cell_type": "code",
      "metadata": {
        "id": "P2jPJ9ThbBsG",
        "colab_type": "code",
        "colab": {}
      },
      "source": [
        "train.loc[:,train.dtypes == 'int16'].isnull().mean()"
      ],
      "execution_count": 0,
      "outputs": []
    },
    {
      "cell_type": "code",
      "metadata": {
        "id": "77Rth_3_bDmw",
        "colab_type": "code",
        "colab": {}
      },
      "source": [
        "train.loc[:,train.dtypes == 'float16'].isnull().mean()"
      ],
      "execution_count": 0,
      "outputs": []
    },
    {
      "cell_type": "code",
      "metadata": {
        "id": "T-fCzxGGbFxa",
        "colab_type": "code",
        "colab": {}
      },
      "source": [
        "train.replace({'OrganizationIdentifier': {np.nan: 0}}, inplace=True)"
      ],
      "execution_count": 0,
      "outputs": []
    },
    {
      "cell_type": "code",
      "metadata": {
        "id": "PYQVf6DjbHqN",
        "colab_type": "code",
        "colab": {}
      },
      "source": [
        "train.loc[:,train.dtypes == 'float16'].isnull().mean()"
      ],
      "execution_count": 0,
      "outputs": []
    },
    {
      "cell_type": "code",
      "metadata": {
        "id": "XvcUDCm5bJeY",
        "colab_type": "code",
        "colab": {}
      },
      "source": [
        "train.loc[:,train.dtypes == 'float32'].isnull().mean()"
      ],
      "execution_count": 0,
      "outputs": []
    },
    {
      "cell_type": "code",
      "metadata": {
        "id": "ZBEJdoBJbMFw",
        "colab_type": "code",
        "colab": {}
      },
      "source": [
        "train.dropna(inplace=True)\n",
        "train.drop('MachineIdentifier', axis=1, inplace=True)\n",
        "train.shape"
      ],
      "execution_count": 0,
      "outputs": []
    },
    {
      "cell_type": "code",
      "metadata": {
        "id": "1x9rEZLcbOaX",
        "colab_type": "code",
        "colab": {}
      },
      "source": [
        "cate_cols = train.select_dtypes(include='category').columns.tolist()\n",
        "\n",
        "from sklearn.preprocessing import LabelEncoder\n",
        "le = LabelEncoder()\n",
        "\n",
        "for col in cate_cols:\n",
        "    train[col] = le.fit_transform(train[col])"
      ],
      "execution_count": 0,
      "outputs": []
    },
    {
      "cell_type": "code",
      "metadata": {
        "id": "cyJXvjh1bQQl",
        "colab_type": "code",
        "colab": {}
      },
      "source": [
        "def reduce_mem_usage(df):\n",
        "    \"\"\" iterate through all the columns of a dataframe and modify the data type\n",
        "        to reduce memory usage.        \n",
        "        \n",
        "    \"\"\"\n",
        "    start_mem = df.memory_usage().sum() / 1024**2\n",
        "    print('Memory usage of dataframe is {:.2f} MB'.format(start_mem))\n",
        "    \n",
        "    for col in df.columns:\n",
        "        col_type = df[col].dtype\n",
        "        \n",
        "        if col_type != object:\n",
        "            c_min = df[col].min()\n",
        "            c_max = df[col].max()\n",
        "            if str(col_type)[:3] == 'int':\n",
        "                if c_min > np.iinfo(np.int8).min and c_max < np.iinfo(np.int8).max:\n",
        "                    df[col] = df[col].astype(np.int8)\n",
        "                elif c_min > np.iinfo(np.int16).min and c_max < np.iinfo(np.int16).max:\n",
        "                    df[col] = df[col].astype(np.int16)\n",
        "                elif c_min > np.iinfo(np.int32).min and c_max < np.iinfo(np.int32).max:\n",
        "                    df[col] = df[col].astype(np.int32)\n",
        "                elif c_min > np.iinfo(np.int64).min and c_max < np.iinfo(np.int64).max:\n",
        "                    df[col] = df[col].astype(np.int64)  \n",
        "            else:\n",
        "                if c_min > np.finfo(np.float16).min and c_max < np.finfo(np.float16).max:\n",
        "                    df[col] = df[col].astype(np.float16)\n",
        "                elif c_min > np.finfo(np.float32).min and c_max < np.finfo(np.float32).max:\n",
        "                    df[col] = df[col].astype(np.float32)\n",
        "                else:\n",
        "                    df[col] = df[col].astype(np.float64)\n",
        "        else:\n",
        "            df[col] = df[col].astype('category')\n",
        "\n",
        "    end_mem = df.memory_usage().sum() / 1024**2\n",
        "    print('Memory usage after optimization is: {:.2f} MB'.format(end_mem))\n",
        "    print('Decreased by {:.1f}%'.format(100 * (start_mem - end_mem) / start_mem))\n",
        "    \n",
        "    return df\n",
        "\n",
        "%time\n",
        "train = reduce_mem_usage(train)"
      ],
      "execution_count": 0,
      "outputs": []
    },
    {
      "cell_type": "code",
      "metadata": {
        "id": "PQCRC5yjbSUj",
        "colab_type": "code",
        "colab": {}
      },
      "source": [
        "cols = train.columns.tolist()\n",
        "import seaborn as sns\n",
        "\n",
        "plt.figure(figsize=(10,10))\n",
        "co_cols = cols[:10]\n",
        "co_cols.append('HasDetections')\n",
        "sns.heatmap(train[co_cols].corr(), cmap='RdBu_r', annot=True, center=0.0)\n",
        "plt.show()"
      ],
      "execution_count": 0,
      "outputs": []
    },
    {
      "cell_type": "code",
      "metadata": {
        "id": "CrZBbRSWbY7o",
        "colab_type": "code",
        "colab": {}
      },
      "source": [
        "co_cols = cols[10:20]\n",
        "co_cols.append('HasDetections')\n",
        "plt.figure(figsize=(10,10))\n",
        "sns.heatmap(train[co_cols].corr(), cmap='RdBu_r', annot=True, center=0.0)\n",
        "plt.show()"
      ],
      "execution_count": 0,
      "outputs": []
    },
    {
      "cell_type": "code",
      "metadata": {
        "id": "IuoXqNBIbaqe",
        "colab_type": "code",
        "colab": {}
      },
      "source": [
        "co_cols = cols[20:30]\n",
        "co_cols.append('HasDetections')\n",
        "plt.figure(figsize=(10,10))\n",
        "sns.heatmap(train[co_cols].corr(), cmap='RdBu_r', annot=True, center=0.0)\n",
        "plt.show()"
      ],
      "execution_count": 0,
      "outputs": []
    },
    {
      "cell_type": "code",
      "metadata": {
        "id": "TOdS73f5bctQ",
        "colab_type": "code",
        "colab": {}
      },
      "source": [
        "co_cols = cols[30:40]\n",
        "co_cols.append('HasDetections')\n",
        "plt.figure(figsize=(10,10))\n",
        "sns.heatmap(train[co_cols].corr(), cmap='RdBu_r', annot=True, center=0.0)\n",
        "plt.show()"
      ],
      "execution_count": 0,
      "outputs": []
    },
    {
      "cell_type": "code",
      "metadata": {
        "id": "9XpAWRwlbeUP",
        "colab_type": "code",
        "colab": {}
      },
      "source": [
        "co_cols = cols[40:50]\n",
        "co_cols.append('HasDetections')\n",
        "plt.figure(figsize=(10,10))\n",
        "sns.heatmap(train[co_cols].corr(), cmap='RdBu_r', annot=True, center=0.0)\n",
        "plt.show()"
      ],
      "execution_count": 0,
      "outputs": []
    },
    {
      "cell_type": "code",
      "metadata": {
        "id": "pM9LbEy6bgGn",
        "colab_type": "code",
        "colab": {}
      },
      "source": [
        "co_cols = cols[50:]\n",
        "co_cols.append('HasDetections')\n",
        "plt.figure(figsize=(10,10))\n",
        "sns.heatmap(train[co_cols].corr(), cmap='RdBu_r', annot=True, center=0.0)\n",
        "plt.show()"
      ],
      "execution_count": 0,
      "outputs": []
    },
    {
      "cell_type": "code",
      "metadata": {
        "id": "0A0olCcKbiCg",
        "colab_type": "code",
        "colab": {}
      },
      "source": [
        "print(train.EngineVersion.nunique())\n",
        "print(train.AvSigVersion.nunique())\n",
        "corr_remove = ['EngineVersion']"
      ],
      "execution_count": 0,
      "outputs": []
    },
    {
      "cell_type": "code",
      "metadata": {
        "id": "rEwBixhdbjq4",
        "colab_type": "code",
        "colab": {}
      },
      "source": [
        "print(train.OsSuite.nunique())\n",
        "print(train.SkuEdition.nunique())\n",
        "print(train.OsBuildLab.nunique())\n",
        "print(train.IeVerIdentifier.nunique())\n",
        "corr_remove.append('OsSuite')\n",
        "corr_remove.append('IeVerIdentifier')"
      ],
      "execution_count": 0,
      "outputs": []
    },
    {
      "cell_type": "code",
      "metadata": {
        "id": "s7RcqQGdblXZ",
        "colab_type": "code",
        "colab": {}
      },
      "source": [
        "print(train.Census_ProcessorManufacturerIdentifier.nunique())\n",
        "print(train.Census_ProcessorModelIdentifier.nunique())\n",
        "corr_remove.append('Census_ProcessorManufacturerIdentifier')"
      ],
      "execution_count": 0,
      "outputs": []
    },
    {
      "cell_type": "code",
      "metadata": {
        "id": "jbn0xoNmbnEe",
        "colab_type": "code",
        "colab": {}
      },
      "source": [
        "print(train.Census_InternalPrimaryDisplayResolutionHorizontal.nunique())\n",
        "print(train.Census_InternalPrimaryDisplayResolutionVertical.nunique())"
      ],
      "execution_count": 0,
      "outputs": []
    },
    {
      "cell_type": "code",
      "metadata": {
        "id": "cAdIzoRPbqhA",
        "colab_type": "code",
        "colab": {}
      },
      "source": [
        "corr_remove.append('Census_InternalPrimaryDisplayResolutionVertical')"
      ],
      "execution_count": 0,
      "outputs": []
    },
    {
      "cell_type": "code",
      "metadata": {
        "id": "wVyjFCAQbsiH",
        "colab_type": "code",
        "colab": {}
      },
      "source": [
        "print(train.Census_OSEdition.nunique())\n",
        "print(train.Census_OSSkuName.nunique())\n",
        "\n",
        "print(train.Census_OSInstallLanguageIdentifier.nunique())\n",
        "print(train.Census_OSUILocaleIdentifier.nunique())"
      ],
      "execution_count": 0,
      "outputs": []
    },
    {
      "cell_type": "code",
      "metadata": {
        "id": "zcN6vQ9Hbudg",
        "colab_type": "code",
        "colab": {}
      },
      "source": [
        "corr_remove.append('Census_OSSkuName')\n",
        "corr_remove.append('Census_OSInstallLanguageIdentifier')"
      ],
      "execution_count": 0,
      "outputs": []
    },
    {
      "cell_type": "code",
      "metadata": {
        "id": "x-LasB33byMg",
        "colab_type": "code",
        "colab": {}
      },
      "source": [
        "train.drop(corr_remove, axis=1, inplace=True)"
      ],
      "execution_count": 0,
      "outputs": []
    },
    {
      "cell_type": "code",
      "metadata": {
        "id": "ocIPE_CAby00",
        "colab_type": "code",
        "colab": {}
      },
      "source": [
        "corr = train.corr()\n",
        "high_corr = (corr >= 0.8).astype('uint8')\n",
        "plt.figure(figsize=(15,15))\n",
        "sns.heatmap(high_corr, cmap='RdBu_r', annot=True, center=0.0)\n",
        "plt.show()"
      ],
      "execution_count": 0,
      "outputs": []
    },
    {
      "cell_type": "code",
      "metadata": {
        "id": "j4O5F6HQb0v_",
        "colab_type": "code",
        "colab": {}
      },
      "source": [
        "print(train.OsBuild.nunique())\n",
        "print(train.Census_OSBuildNumber.nunique())\n",
        "print(train.Census_OSVersion.nunique(), '\\n')\n",
        "\n",
        "print(train.Census_OSArchitecture.nunique())\n",
        "print(train.Processor.nunique(), '\\n')\n",
        "\n",
        "print(train.Census_OSEdition.nunique())\n",
        "print(train.SkuEdition.nunique())"
      ],
      "execution_count": 0,
      "outputs": []
    },
    {
      "cell_type": "code",
      "metadata": {
        "id": "JPC3DdnHb2RD",
        "colab_type": "code",
        "colab": {}
      },
      "source": [
        "corr_remove1=['OsBuild', 'Census_OSBuildNumber', 'Processor', 'SkuEdition']\n",
        "corr_remove1"
      ],
      "execution_count": 0,
      "outputs": []
    },
    {
      "cell_type": "code",
      "metadata": {
        "id": "bFqFDe8jb4Gf",
        "colab_type": "code",
        "colab": {}
      },
      "source": [
        "train.drop(corr_remove1, axis=1, inplace=True)\n",
        "train.shape"
      ],
      "execution_count": 0,
      "outputs": []
    },
    {
      "cell_type": "code",
      "metadata": {
        "id": "Wsv_swu5b92W",
        "colab_type": "code",
        "colab": {}
      },
      "source": [
        "%%time\n",
        "test=pd.read_csv('/content/drive/My Drive/Microsoft Malware/test.csv',dtype=dtypes)\n",
        "test.shape"
      ],
      "execution_count": 0,
      "outputs": []
    },
    {
      "cell_type": "code",
      "metadata": {
        "id": "uO5nmsRRcMru",
        "colab_type": "code",
        "colab": {}
      },
      "source": [
        "Ind=['IsProtected', 'Census_IsAlwaysOnAlwaysConnectedCapable',\n",
        "       'Census_FlightRing', 'Census_HasOpticalDiskDrive',\n",
        "       'Census_OSArchitecture', 'Census_GenuineStateName',\n",
        "       'Census_IsTouchEnabled', 'Census_InternalBatteryType', 'SmartScreen',\n",
        "       'Wdft_IsGamer', 'AVProductsInstalled', 'Census_PowerPlatformRoleName',\n",
        "       'OrganizationIdentifier', 'AVProductStatesIdentifier',\n",
        "       'Census_PrimaryDiskTypeName', 'Census_MDC2FormFactor',\n",
        "       'Census_ProcessorCoreCount', 'Census_ChassisTypeName',\n",
        "       'Census_InternalBatteryNumberOfCharges', 'AppVersion',\n",
        "       'Census_ActivationChannel', 'Census_IsSecureBootEnabled',\n",
        "       'Census_InternalPrimaryDisplayResolutionHorizontal',\n",
        "       'Census_TotalPhysicalRAM', 'Census_OSBranch',\n",
        "       'Census_OSWUAutoUpdateOptionsName', 'OsPlatformSubRelease',\n",
        "       'OsBuildLab', 'Census_OSEdition', 'Census_OSUILocaleIdentifier',\n",
        "       'Census_InternalPrimaryDiagonalDisplaySizeInInches',\n",
        "       'Census_PrimaryDiskTotalCapacity',\n",
        "       'Census_FirmwareManufacturerIdentifier', 'Census_OSInstallTypeName',\n",
        "       'LocaleEnglishNameIdentifier', 'Wdft_RegionIdentifier',\n",
        "       'GeoNameIdentifier', 'Census_OSBuildRevision', 'Census_OSVersion',\n",
        "       'Census_OEMNameIdentifier', 'CountryIdentifier',\n",
        "       'Census_OEMModelIdentifier', 'Census_ProcessorModelIdentifier',\n",
        "       'AvSigVersion', 'CityIdentifier', 'Census_FirmwareVersionIdentifier',\n",
        "       'Census_SystemVolumeTotalCapacity']"
      ],
      "execution_count": 0,
      "outputs": []
    },
    {
      "cell_type": "code",
      "metadata": {
        "id": "Mw5ufxALcJ1K",
        "colab_type": "code",
        "colab": {}
      },
      "source": [
        "Test=test.loc[:,Ind]"
      ],
      "execution_count": 0,
      "outputs": []
    },
    {
      "cell_type": "code",
      "metadata": {
        "id": "CbvZX4THcUOY",
        "colab_type": "code",
        "colab": {}
      },
      "source": [
        "Test.loc[:,Test.dtypes == 'category'].columns"
      ],
      "execution_count": 0,
      "outputs": []
    },
    {
      "cell_type": "code",
      "metadata": {
        "id": "bvXcKD0ycX4P",
        "colab_type": "code",
        "colab": {}
      },
      "source": [
        "for column in ['IsProtected', 'Census_IsAlwaysOnAlwaysConnectedCapable',\n",
        "       'Census_FlightRing', 'Census_HasOpticalDiskDrive',\n",
        "       'Census_OSArchitecture', 'Census_GenuineStateName',\n",
        "       'Census_IsTouchEnabled', 'Census_InternalBatteryType', 'SmartScreen',\n",
        "       'Wdft_IsGamer', 'AVProductsInstalled', 'Census_PowerPlatformRoleName',\n",
        "       'OrganizationIdentifier', 'AVProductStatesIdentifier',\n",
        "       'Census_PrimaryDiskTypeName', 'Census_MDC2FormFactor',\n",
        "       'Census_ProcessorCoreCount', 'Census_ChassisTypeName',\n",
        "       'Census_InternalBatteryNumberOfCharges', 'AppVersion',\n",
        "       'Census_ActivationChannel', 'Census_IsSecureBootEnabled',\n",
        "       'Census_InternalPrimaryDisplayResolutionHorizontal',\n",
        "       'Census_TotalPhysicalRAM', 'Census_OSBranch',\n",
        "       'Census_OSWUAutoUpdateOptionsName', 'OsPlatformSubRelease',\n",
        "       'OsBuildLab', 'Census_OSEdition', 'Census_OSUILocaleIdentifier',\n",
        "       'Census_InternalPrimaryDiagonalDisplaySizeInInches',\n",
        "       'Census_PrimaryDiskTotalCapacity',\n",
        "       'Census_FirmwareManufacturerIdentifier', 'Census_OSInstallTypeName',\n",
        "       'LocaleEnglishNameIdentifier', 'Wdft_RegionIdentifier',\n",
        "       'GeoNameIdentifier', 'Census_OSBuildRevision', 'Census_OSVersion',\n",
        "       'Census_OEMNameIdentifier', 'CountryIdentifier',\n",
        "       'Census_OEMModelIdentifier', 'Census_ProcessorModelIdentifier',\n",
        "       'AvSigVersion', 'CityIdentifier', 'Census_FirmwareVersionIdentifier',\n",
        "       'Census_SystemVolumeTotalCapacity']:\n",
        "    Test[column].fillna(Test[column].mode()[0], inplace=True)"
      ],
      "execution_count": 0,
      "outputs": []
    },
    {
      "cell_type": "code",
      "metadata": {
        "id": "zwpVTvl9cakf",
        "colab_type": "code",
        "colab": {}
      },
      "source": [
        "cate_cols2 = Test.select_dtypes(include='category').columns.tolist()\n",
        "\n",
        "from sklearn.preprocessing import LabelEncoder\n",
        "le = LabelEncoder()\n",
        "\n",
        "for col in cate_cols2:\n",
        "    Test[col] = le.fit_transform(Test[col])"
      ],
      "execution_count": 0,
      "outputs": []
    },
    {
      "cell_type": "code",
      "metadata": {
        "id": "rNlQ6WvTccKB",
        "colab_type": "code",
        "colab": {}
      },
      "source": [
        "import warnings\n",
        "warnings.filterwarnings('ignore')"
      ],
      "execution_count": 0,
      "outputs": []
    },
    {
      "cell_type": "code",
      "metadata": {
        "id": "VUuM8fjacg5T",
        "colab_type": "code",
        "colab": {}
      },
      "source": [
        "def make_bucket(data,num=10):\n",
        "    data.sort()\n",
        "    bins=[]\n",
        "    for i in range(num):\n",
        "        bins.append(data[int(len(data)*(i+1)//num)-1])\n",
        "    return bins"
      ],
      "execution_count": 0,
      "outputs": []
    },
    {
      "cell_type": "code",
      "metadata": {
        "id": "bmr-sb5Lcjq3",
        "colab_type": "code",
        "colab": {}
      },
      "source": [
        "float_features=list(train.loc[:, train.dtypes == float].columns)"
      ],
      "execution_count": 0,
      "outputs": []
    },
    {
      "cell_type": "code",
      "metadata": {
        "id": "N3dQvM11cmfp",
        "colab_type": "code",
        "colab": {}
      },
      "source": [
        "for f in float_features:\n",
        "    train[f]=train[f].fillna(1e10)\n",
        "    test[f]=test[f].fillna(1e10)\n",
        "    data=list(train[f])+list(test[f])\n",
        "    bins=make_bucket(data,num=50)\n",
        "    train[f]=np.digitize(train[f],bins=bins)\n",
        "    test[f]=np.digitize(test[f],bins=bins)\n",
        "    \n",
        "features=train.columns.tolist()[1:-1]"
      ],
      "execution_count": 0,
      "outputs": []
    },
    {
      "cell_type": "code",
      "metadata": {
        "id": "FyQvdLgRcolH",
        "colab_type": "code",
        "colab": {}
      },
      "source": [
        "import ctrNet\n",
        "import pandas as pd\n",
        "import numpy as np\n",
        "import random\n",
        "import tensorflow as tf\n",
        "from src import misc_utils as utils\n",
        "import os\n",
        "import gc\n",
        "random.seed(2019)\n",
        "np.random.seed(2019)"
      ],
      "execution_count": 0,
      "outputs": []
    },
    {
      "cell_type": "code",
      "metadata": {
        "id": "7qjLzp7ucqJx",
        "colab_type": "code",
        "colab": {}
      },
      "source": [
        "hparam=tf.contrib.training.HParams(\n",
        "            model='nffm',\n",
        "            norm=True,\n",
        "            batch_norm_decay=0.9,\n",
        "            hidden_size=[128,128],\n",
        "            k=8,\n",
        "            hash_ids=int(2e5),\n",
        "            batch_size=1024,\n",
        "            optimizer=\"adam\",\n",
        "            learning_rate=0.001,\n",
        "            num_display_steps=100,\n",
        "            num_eval_steps=100,\n",
        "            epoch=1,\n",
        "            metric='auc',\n",
        "            init_method='uniform',\n",
        "            init_value=0.1,\n",
        "            feature_nums=len(features),\n",
        "            kfold=5)\n",
        "utils.print_hparams(hparam)"
      ],
      "execution_count": 0,
      "outputs": []
    },
    {
      "cell_type": "code",
      "metadata": {
        "id": "GCKj-5XLcuzI",
        "colab_type": "code",
        "colab": {}
      },
      "source": [
        "index=set(range(train.shape[0]))\n",
        "K_fold=[]\n",
        "for i in range(hparam.kfold):\n",
        "    if i == hparam.kfold-1:\n",
        "        tmp=index\n",
        "    else:\n",
        "        tmp=random.sample(index,int(1.0/hparam.kfold*train.shape[0]))\n",
        "    index=index-set(tmp)\n",
        "    print(\"Number:\",len(tmp))\n",
        "    K_fold.append(tmp)\n",
        "    \n",
        "\n",
        "for i in range(hparam.kfold):\n",
        "    print(\"Fold\",i)\n",
        "    dev_index=K_fold[i]\n",
        "    dev_index=random.sample(dev_index,int(0.1*len(dev_index)))\n",
        "    train_index=[]\n",
        "    for j in range(hparam.kfold):\n",
        "        if j!=i:\n",
        "            train_index+=K_fold[j]\n",
        "    model=ctrNet.build_model(hparam)\n",
        "    model.train(train_data=(train.iloc[train_index][features],train.iloc[train_index]['target']),\\\n",
        "                dev_data=(train.iloc[dev_index][features],train.iloc[dev_index]['target']))\n",
        "    print(\"Training Done! Inference...\")\n",
        "    if i==0:\n",
        "        preds=model.infer(dev_data=(test[features],test['target']))/hparam.kfold\n",
        "    else:\n",
        "        preds+=model.infer(dev_data=(test[features],test['target']))/hparam.kfold"
      ],
      "execution_count": 0,
      "outputs": []
    },
    {
      "cell_type": "code",
      "metadata": {
        "id": "jOnL_nOXcxCn",
        "colab_type": "code",
        "colab": {}
      },
      "source": [
        "submission = pd.read_csv('/content/drive/My Drive/Microsoft/sample_submission.csv')\n",
        "submission['HasDetections'] = preds\n",
        "submission.to_csv('nffm_submission.csv', index=False)"
      ],
      "execution_count": 0,
      "outputs": []
    },
    {
      "cell_type": "markdown",
      "metadata": {
        "id": "CFnhe1Bm1I8Y",
        "colab_type": "text"
      },
      "source": [
        "**xDeepFM**"
      ]
    },
    {
      "cell_type": "code",
      "metadata": {
        "id": "fduJ99o41MgI",
        "colab_type": "code",
        "colab": {}
      },
      "source": [
        "hparam=tf.contrib.training.HParams(\n",
        "            model='xdeepfm',\n",
        "            norm=True,\n",
        "            batch_norm_decay=0.9,\n",
        "            hidden_size=[128,128],\n",
        "            cross_layer_sizes=[128,128,128],\n",
        "            k=8,\n",
        "            hash_ids=int(2e5),\n",
        "            batch_size=1024,\n",
        "            optimizer=\"adam\",\n",
        "            learning_rate=0.001,\n",
        "            num_display_steps=1000,\n",
        "            num_eval_steps=1000,\n",
        "            epoch=1,\n",
        "            metric='auc',\n",
        "            activation=['relu','relu','relu'],\n",
        "            cross_activation='identity',\n",
        "            init_method='uniform',\n",
        "            init_value=0.1,\n",
        "            feature_nums=len(features),\n",
        "            kfold=5)\n",
        "utils.print_hparams(hparam)"
      ],
      "execution_count": 0,
      "outputs": []
    },
    {
      "cell_type": "code",
      "metadata": {
        "id": "nT5bs_-21N_t",
        "colab_type": "code",
        "colab": {}
      },
      "source": [
        "index=set(range(train.shape[0]))\n",
        "K_fold=[]\n",
        "for i in range(hparam.kfold):\n",
        "    if i == hparam.kfold-1:\n",
        "        tmp=index\n",
        "    else:\n",
        "        tmp=random.sample(index,int(1.0/hparam.kfold*train.shape[0]))\n",
        "    index=index-set(tmp)\n",
        "    print(\"Number:\",len(tmp))\n",
        "    K_fold.append(tmp)\n",
        "    \n",
        "\n",
        "for i in range(hparam.kfold):\n",
        "    print(\"Fold\",i)\n",
        "    dev_index=K_fold[i]\n",
        "    dev_index=random.sample(dev_index,int(0.1*len(dev_index)))\n",
        "    train_index=[]\n",
        "    for j in range(hparam.kfold):\n",
        "        if j!=i:\n",
        "            train_index+=K_fold[j]\n",
        "    model=ctrNet.build_model(hparam)\n",
        "    model.train(train_data=(train.iloc[train_index][features],train.iloc[train_index]['target']),\\\n",
        "                dev_data=(train.iloc[dev_index][features],train.iloc[dev_index]['target']))\n",
        "    print(\"Training Done! Inference...\")\n",
        "    if i==0:\n",
        "        preds=model.infer(dev_data=(test[features],test['target']))/hparam.kfold\n",
        "    else:\n",
        "        preds+=model.infer(dev_data=(test[features],test['target']))/hparam.kfold"
      ],
      "execution_count": 0,
      "outputs": []
    },
    {
      "cell_type": "code",
      "metadata": {
        "id": "uPcoYmSm1Sre",
        "colab_type": "code",
        "colab": {}
      },
      "source": [
        "submission = pd.read_csv('/content/drive/My Drive/Microsoft/sample_submission.csv')\n",
        "submission['HasDetections'] = preds\n",
        "submission.to_csv('xdeepfm_submission.csv', index=False)"
      ],
      "execution_count": 0,
      "outputs": []
    }
  ]
}